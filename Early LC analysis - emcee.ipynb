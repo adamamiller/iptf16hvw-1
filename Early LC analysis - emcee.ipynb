{
 "cells": [
  {
   "cell_type": "code",
   "execution_count": 21,
   "metadata": {
    "collapsed": true
   },
   "outputs": [],
   "source": [
    "#import relevant libraries\n",
    "import numpy as np\n",
    "import emcee\n",
    "\n"
   ]
  },
  {
   "cell_type": "markdown",
   "metadata": {},
   "source": [
    "# likelihood function\n",
    "\n",
    "# <center> $\\prod_{i} \\frac{1}{\\sqrt{\\pi ( \\sigma_{i}^{2} + \\sigma_{0}^{2}})} exp\\bigg(\\frac{-(y_{i} - (a + b(t-t_{0})^{\\alpha}))}{\\sigma_{i}^{2} + \\sigma_{0}^{2}}\\bigg) $\n",
    "</centering>\n",
    "\n",
    "# <center>$\\prod_{i} \\frac{1}{\\sqrt{\\pi ( \\sigma_{i}^{2} + \\sigma_{0}^{2} })} exp\\bigg(\\frac{-(y_{i} - a )}{\\sigma_{i}^{2} + \\sigma_{0}^{2}}\\bigg)$\n",
    "    \n",
    "   "
   ]
  },
  {
   "cell_type": "code",
   "execution_count": 22,
   "metadata": {
    "collapsed": false
   },
   "outputs": [],
   "source": [
    "#Define the log likelihood\n",
    "def lnlikelihood(theta, f, t, f_err ):\n",
    "    a, b, t_0, alpha, sig_0 = theta\n",
    "    if(t < t_0):\n",
    "        model = a\n",
    "    elif t >= t_0:\n",
    "        model = a + (b* ((t - t_0)**alpha))\n",
    "    \n",
    "    ln_l = np.sum( np.log(1. / np.sqrt(np.pi * (sig_0**2 + f_err**2))) - ((yi - model)**2 / (sig_0**2 + f_err**2)))\n",
    "    return -ln_l\n",
    "\n",
    "#Define priors on parameters  \n",
    "def lnprior(theta):\n",
    "    a, b, t_0, alpha, sig_0 = theta\n",
    "\n",
    "    \n",
    "def posterior(theta, f, t, f_err):\n",
    "    prior = prior(theta)\n",
    "    lnl = ln_likelihood(theta, f, t, f_err)\n",
    "    return lnl + prior\n",
    "    \n",
    "   \n",
    "    "
   ]
  },
  {
   "cell_type": "code",
   "execution_count": 23,
   "metadata": {
    "collapsed": true
   },
   "outputs": [],
   "source": [
    "#initial guess on parameters\n",
    "guess_0 = [1,1,1,1,1]"
   ]
  },
  {
   "cell_type": "code",
   "execution_count": null,
   "metadata": {
    "collapsed": false
   },
   "outputs": [],
   "source": [
    "nwalkers = 100\n",
    "nfac = [1e-2, 1e-2]\n",
    "ndim = len(guess0)\n",
    "pos = [guess0 + nfac * np.random.randn(ndim) for i in range(nwalkers)]\n",
    "\n",
    "sampler = emcee.EnsembleSampler(nwalkers, ndim, posterior, args=(f, t ,f_err), threads = ncores)\n",
    "\n",
    "nsamples = 2000\n",
    "foo = sampler.run_mcmc(pos, nsamples)\n"
   ]
  },
  {
   "cell_type": "code",
   "execution_count": null,
   "metadata": {
    "collapsed": false
   },
   "outputs": [],
   "source": []
  },
  {
   "cell_type": "code",
   "execution_count": null,
   "metadata": {
    "collapsed": true
   },
   "outputs": [],
   "source": []
  }
 ],
 "metadata": {
  "kernelspec": {
   "display_name": "Python 2",
   "language": "python",
   "name": "python2"
  },
  "language_info": {
   "codemirror_mode": {
    "name": "ipython",
    "version": 2
   },
   "file_extension": ".py",
   "mimetype": "text/x-python",
   "name": "python",
   "nbconvert_exporter": "python",
   "pygments_lexer": "ipython2",
   "version": "2.7.13"
  }
 },
 "nbformat": 4,
 "nbformat_minor": 2
}
