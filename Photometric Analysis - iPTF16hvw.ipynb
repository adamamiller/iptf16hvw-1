{
 "cells": [
  {
   "cell_type": "code",
   "execution_count": 1,
   "metadata": {
    "collapsed": false
   },
   "outputs": [],
   "source": [
    "#import relevant libraries\n",
    "import numpy as np\n",
    "import pandas as pd\n",
    "import matplotlib.pyplot as plt\n",
    "from astropy.io import ascii\n",
    "import json\n",
    "from IPython.display import display, Image\n",
    "from specutils import Spectrum1D\n",
    "from astropy import units, table\n",
    "from scipy.optimize import curve_fit\n",
    "from scipy.interpolate import interp1d\n",
    "import scipy.integrate as integrate\n",
    "from astropy.time import Time\n",
    "import datetime\n",
    "#Import Supernovae class and relevant functions\n",
    "from Supernovae import *\n",
    "import sncosmo\n",
    "import mydefs\n",
    "import iminuit"
   ]
  },
  {
   "cell_type": "code",
   "execution_count": 2,
   "metadata": {
    "collapsed": false
   },
   "outputs": [],
   "source": [
    "#Read in photometry file\n",
    "hvw_photometry = pd.read_csv('../Data/16hvw_photometry/Marshal_lc.txt')\n",
    "#Find indexes where photometry taken by P60\n",
    "P60_indexes = np.where(hvw_photometry['instrument'] == \"P60+SED-Machine\")\n",
    "\n",
    "#Filter dataframe for elements taken by P60\n",
    "P60_photometry = hvw_photometry.iloc[P60_indexes]\n"
   ]
  },
  {
   "cell_type": "code",
   "execution_count": 3,
   "metadata": {
    "collapsed": true
   },
   "outputs": [],
   "source": [
    "#define function to grab items from df by filter\n",
    "def grab_filter(DF, filt):\n",
    "    indexes = np.where(DF['filter'] == filt)\n",
    "    return DF.iloc[indexes]\n",
    "\n",
    "def date_to_MJD(date):\n",
    "    struct_time = [datetime.datetime.strptime(day,\"%Y %b %d\" ) for day in date]\n",
    "    struct_time = Time(struct_time)\n",
    "    struct_time.format = 'mjd'\n",
    "    return struct_time.value\n"
   ]
  },
  {
   "cell_type": "code",
   "execution_count": 4,
   "metadata": {
    "collapsed": true
   },
   "outputs": [],
   "source": [
    "z_16hvw = .03663\n",
    "\n",
    "MJD_max_16hvw = 57714.40"
   ]
  },
  {
   "cell_type": "code",
   "execution_count": 5,
   "metadata": {
    "collapsed": true
   },
   "outputs": [],
   "source": [
    "iPTF16hvw = Supernovae(\"iPTF16hvw\" ,z_16hvw, MJD_max_16hvw)\n"
   ]
  },
  {
   "cell_type": "code",
   "execution_count": 24,
   "metadata": {
    "collapsed": false
   },
   "outputs": [
    {
     "data": {
      "text/html": [
       "<div>\n",
       "<style scoped>\n",
       "    .dataframe tbody tr th:only-of-type {\n",
       "        vertical-align: middle;\n",
       "    }\n",
       "\n",
       "    .dataframe tbody tr th {\n",
       "        vertical-align: top;\n",
       "    }\n",
       "\n",
       "    .dataframe thead th {\n",
       "        text-align: right;\n",
       "    }\n",
       "</style>\n",
       "<table border=\"1\" class=\"dataframe\">\n",
       "  <thead>\n",
       "    <tr style=\"text-align: right;\">\n",
       "      <th></th>\n",
       "      <th>date</th>\n",
       "      <th>jdobs</th>\n",
       "      <th>filter</th>\n",
       "      <th>absmag</th>\n",
       "      <th>mag</th>\n",
       "      <th>emag</th>\n",
       "      <th>limmag</th>\n",
       "      <th>instrument</th>\n",
       "      <th>reducedby</th>\n",
       "      <th>refsys</th>\n",
       "      <th>issub</th>\n",
       "    </tr>\n",
       "  </thead>\n",
       "  <tbody>\n",
       "    <tr>\n",
       "      <th>257</th>\n",
       "      <td>2016 Nov 09</td>\n",
       "      <td>2.457702e+06</td>\n",
       "      <td>g</td>\n",
       "      <td>-16.58</td>\n",
       "      <td>19.40</td>\n",
       "      <td>0.08</td>\n",
       "      <td>99.0</td>\n",
       "      <td>P60+SED-Machine</td>\n",
       "      <td>Fremling Automated Pipeline SEDM</td>\n",
       "      <td>SDSS</td>\n",
       "      <td>t</td>\n",
       "    </tr>\n",
       "    <tr>\n",
       "      <th>260</th>\n",
       "      <td>2016 Nov 09</td>\n",
       "      <td>2.457702e+06</td>\n",
       "      <td>g</td>\n",
       "      <td>-16.61</td>\n",
       "      <td>19.38</td>\n",
       "      <td>0.05</td>\n",
       "      <td>99.0</td>\n",
       "      <td>P60+SED-Machine</td>\n",
       "      <td>Fremling Automated Pipeline SEDM</td>\n",
       "      <td>SDSS</td>\n",
       "      <td>t</td>\n",
       "    </tr>\n",
       "    <tr>\n",
       "      <th>264</th>\n",
       "      <td>2016 Nov 10</td>\n",
       "      <td>2.457703e+06</td>\n",
       "      <td>g</td>\n",
       "      <td>-17.05</td>\n",
       "      <td>18.93</td>\n",
       "      <td>0.05</td>\n",
       "      <td>99.0</td>\n",
       "      <td>P60+SED-Machine</td>\n",
       "      <td>Fremling Automated Pipeline SEDM</td>\n",
       "      <td>SDSS</td>\n",
       "      <td>t</td>\n",
       "    </tr>\n",
       "    <tr>\n",
       "      <th>268</th>\n",
       "      <td>2016 Nov 12</td>\n",
       "      <td>2.457705e+06</td>\n",
       "      <td>g</td>\n",
       "      <td>-17.70</td>\n",
       "      <td>18.29</td>\n",
       "      <td>0.03</td>\n",
       "      <td>99.0</td>\n",
       "      <td>P60+SED-Machine</td>\n",
       "      <td>Fremling Automated Pipeline SEDM</td>\n",
       "      <td>SDSS</td>\n",
       "      <td>t</td>\n",
       "    </tr>\n",
       "    <tr>\n",
       "      <th>272</th>\n",
       "      <td>2016 Nov 13</td>\n",
       "      <td>2.457706e+06</td>\n",
       "      <td>g</td>\n",
       "      <td>-17.98</td>\n",
       "      <td>18.00</td>\n",
       "      <td>0.03</td>\n",
       "      <td>99.0</td>\n",
       "      <td>P60+SED-Machine</td>\n",
       "      <td>Fremling Automated Pipeline SEDM</td>\n",
       "      <td>SDSS</td>\n",
       "      <td>t</td>\n",
       "    </tr>\n",
       "    <tr>\n",
       "      <th>276</th>\n",
       "      <td>2016 Nov 14</td>\n",
       "      <td>2.457707e+06</td>\n",
       "      <td>g</td>\n",
       "      <td>-18.15</td>\n",
       "      <td>17.83</td>\n",
       "      <td>0.02</td>\n",
       "      <td>99.0</td>\n",
       "      <td>P60+SED-Machine</td>\n",
       "      <td>Fremling Automated Pipeline SEDM</td>\n",
       "      <td>SDSS</td>\n",
       "      <td>t</td>\n",
       "    </tr>\n",
       "    <tr>\n",
       "      <th>280</th>\n",
       "      <td>2016 Nov 15</td>\n",
       "      <td>2.457708e+06</td>\n",
       "      <td>g</td>\n",
       "      <td>-18.25</td>\n",
       "      <td>17.73</td>\n",
       "      <td>0.03</td>\n",
       "      <td>99.0</td>\n",
       "      <td>P60+SED-Machine</td>\n",
       "      <td>Fremling Automated Pipeline SEDM</td>\n",
       "      <td>SDSS</td>\n",
       "      <td>t</td>\n",
       "    </tr>\n",
       "    <tr>\n",
       "      <th>284</th>\n",
       "      <td>2016 Nov 17</td>\n",
       "      <td>2.457710e+06</td>\n",
       "      <td>g</td>\n",
       "      <td>-18.48</td>\n",
       "      <td>17.50</td>\n",
       "      <td>0.03</td>\n",
       "      <td>99.0</td>\n",
       "      <td>P60+SED-Machine</td>\n",
       "      <td>Fremling Automated Pipeline SEDM</td>\n",
       "      <td>SDSS</td>\n",
       "      <td>t</td>\n",
       "    </tr>\n",
       "    <tr>\n",
       "      <th>292</th>\n",
       "      <td>2016 Nov 25</td>\n",
       "      <td>2.457718e+06</td>\n",
       "      <td>g</td>\n",
       "      <td>-18.58</td>\n",
       "      <td>17.40</td>\n",
       "      <td>0.02</td>\n",
       "      <td>99.0</td>\n",
       "      <td>P60+SED-Machine</td>\n",
       "      <td>Fremling Automated Pipeline SEDM</td>\n",
       "      <td>SDSS</td>\n",
       "      <td>t</td>\n",
       "    </tr>\n",
       "    <tr>\n",
       "      <th>296</th>\n",
       "      <td>2016 Nov 26</td>\n",
       "      <td>2.457719e+06</td>\n",
       "      <td>g</td>\n",
       "      <td>-18.53</td>\n",
       "      <td>17.45</td>\n",
       "      <td>0.02</td>\n",
       "      <td>99.0</td>\n",
       "      <td>P60+SED-Machine</td>\n",
       "      <td>Fremling Automated Pipeline SEDM</td>\n",
       "      <td>SDSS</td>\n",
       "      <td>t</td>\n",
       "    </tr>\n",
       "    <tr>\n",
       "      <th>304</th>\n",
       "      <td>2016 Nov 30</td>\n",
       "      <td>2.457723e+06</td>\n",
       "      <td>g</td>\n",
       "      <td>-18.34</td>\n",
       "      <td>17.64</td>\n",
       "      <td>0.02</td>\n",
       "      <td>99.0</td>\n",
       "      <td>P60+SED-Machine</td>\n",
       "      <td>Fremling Automated Pipeline SEDM</td>\n",
       "      <td>SDSS</td>\n",
       "      <td>t</td>\n",
       "    </tr>\n",
       "    <tr>\n",
       "      <th>308</th>\n",
       "      <td>2016 Dec 01</td>\n",
       "      <td>2.457724e+06</td>\n",
       "      <td>g</td>\n",
       "      <td>-18.26</td>\n",
       "      <td>17.72</td>\n",
       "      <td>0.02</td>\n",
       "      <td>99.0</td>\n",
       "      <td>P60+SED-Machine</td>\n",
       "      <td>Fremling Automated Pipeline SEDM</td>\n",
       "      <td>SDSS</td>\n",
       "      <td>t</td>\n",
       "    </tr>\n",
       "    <tr>\n",
       "      <th>316</th>\n",
       "      <td>2016 Dec 03</td>\n",
       "      <td>2.457726e+06</td>\n",
       "      <td>g</td>\n",
       "      <td>-18.06</td>\n",
       "      <td>17.93</td>\n",
       "      <td>0.03</td>\n",
       "      <td>99.0</td>\n",
       "      <td>P60+SED-Machine</td>\n",
       "      <td>Fremling Automated Pipeline SEDM</td>\n",
       "      <td>SDSS</td>\n",
       "      <td>t</td>\n",
       "    </tr>\n",
       "    <tr>\n",
       "      <th>324</th>\n",
       "      <td>2016 Dec 06</td>\n",
       "      <td>2.457729e+06</td>\n",
       "      <td>g</td>\n",
       "      <td>-17.77</td>\n",
       "      <td>18.21</td>\n",
       "      <td>0.02</td>\n",
       "      <td>99.0</td>\n",
       "      <td>P60+SED-Machine</td>\n",
       "      <td>Fremling Automated Pipeline SEDM</td>\n",
       "      <td>SDSS</td>\n",
       "      <td>t</td>\n",
       "    </tr>\n",
       "    <tr>\n",
       "      <th>328</th>\n",
       "      <td>2016 Dec 12</td>\n",
       "      <td>2.457735e+06</td>\n",
       "      <td>g</td>\n",
       "      <td>-17.24</td>\n",
       "      <td>18.75</td>\n",
       "      <td>0.09</td>\n",
       "      <td>99.0</td>\n",
       "      <td>P60+SED-Machine</td>\n",
       "      <td>Fremling Automated Pipeline SEDM</td>\n",
       "      <td>SDSS</td>\n",
       "      <td>t</td>\n",
       "    </tr>\n",
       "    <tr>\n",
       "      <th>332</th>\n",
       "      <td>2016 Dec 14</td>\n",
       "      <td>2.457737e+06</td>\n",
       "      <td>g</td>\n",
       "      <td>-16.98</td>\n",
       "      <td>19.00</td>\n",
       "      <td>0.06</td>\n",
       "      <td>99.0</td>\n",
       "      <td>P60+SED-Machine</td>\n",
       "      <td>Fremling Automated Pipeline SEDM</td>\n",
       "      <td>SDSS</td>\n",
       "      <td>t</td>\n",
       "    </tr>\n",
       "    <tr>\n",
       "      <th>336</th>\n",
       "      <td>2016 Dec 18</td>\n",
       "      <td>2.457741e+06</td>\n",
       "      <td>g</td>\n",
       "      <td>-16.64</td>\n",
       "      <td>19.34</td>\n",
       "      <td>0.06</td>\n",
       "      <td>99.0</td>\n",
       "      <td>P60+SED-Machine</td>\n",
       "      <td>Fremling Automated Pipeline SEDM</td>\n",
       "      <td>SDSS</td>\n",
       "      <td>t</td>\n",
       "    </tr>\n",
       "    <tr>\n",
       "      <th>338</th>\n",
       "      <td>2016 Dec 20</td>\n",
       "      <td>2.457743e+06</td>\n",
       "      <td>g</td>\n",
       "      <td>-16.47</td>\n",
       "      <td>19.51</td>\n",
       "      <td>0.04</td>\n",
       "      <td>99.0</td>\n",
       "      <td>P60+SED-Machine</td>\n",
       "      <td>Fremling Automated Pipeline SEDM</td>\n",
       "      <td>SDSS</td>\n",
       "      <td>t</td>\n",
       "    </tr>\n",
       "  </tbody>\n",
       "</table>\n",
       "</div>"
      ],
      "text/plain": [
       "            date         jdobs filter  absmag    mag  emag  limmag  \\\n",
       "257  2016 Nov 09  2.457702e+06      g  -16.58  19.40  0.08    99.0   \n",
       "260  2016 Nov 09  2.457702e+06      g  -16.61  19.38  0.05    99.0   \n",
       "264  2016 Nov 10  2.457703e+06      g  -17.05  18.93  0.05    99.0   \n",
       "268  2016 Nov 12  2.457705e+06      g  -17.70  18.29  0.03    99.0   \n",
       "272  2016 Nov 13  2.457706e+06      g  -17.98  18.00  0.03    99.0   \n",
       "276  2016 Nov 14  2.457707e+06      g  -18.15  17.83  0.02    99.0   \n",
       "280  2016 Nov 15  2.457708e+06      g  -18.25  17.73  0.03    99.0   \n",
       "284  2016 Nov 17  2.457710e+06      g  -18.48  17.50  0.03    99.0   \n",
       "292  2016 Nov 25  2.457718e+06      g  -18.58  17.40  0.02    99.0   \n",
       "296  2016 Nov 26  2.457719e+06      g  -18.53  17.45  0.02    99.0   \n",
       "304  2016 Nov 30  2.457723e+06      g  -18.34  17.64  0.02    99.0   \n",
       "308  2016 Dec 01  2.457724e+06      g  -18.26  17.72  0.02    99.0   \n",
       "316  2016 Dec 03  2.457726e+06      g  -18.06  17.93  0.03    99.0   \n",
       "324  2016 Dec 06  2.457729e+06      g  -17.77  18.21  0.02    99.0   \n",
       "328  2016 Dec 12  2.457735e+06      g  -17.24  18.75  0.09    99.0   \n",
       "332  2016 Dec 14  2.457737e+06      g  -16.98  19.00  0.06    99.0   \n",
       "336  2016 Dec 18  2.457741e+06      g  -16.64  19.34  0.06    99.0   \n",
       "338  2016 Dec 20  2.457743e+06      g  -16.47  19.51  0.04    99.0   \n",
       "\n",
       "          instrument                         reducedby refsys issub   \n",
       "257  P60+SED-Machine  Fremling Automated Pipeline SEDM   SDSS      t  \n",
       "260  P60+SED-Machine  Fremling Automated Pipeline SEDM   SDSS      t  \n",
       "264  P60+SED-Machine  Fremling Automated Pipeline SEDM   SDSS      t  \n",
       "268  P60+SED-Machine  Fremling Automated Pipeline SEDM   SDSS      t  \n",
       "272  P60+SED-Machine  Fremling Automated Pipeline SEDM   SDSS      t  \n",
       "276  P60+SED-Machine  Fremling Automated Pipeline SEDM   SDSS      t  \n",
       "280  P60+SED-Machine  Fremling Automated Pipeline SEDM   SDSS      t  \n",
       "284  P60+SED-Machine  Fremling Automated Pipeline SEDM   SDSS      t  \n",
       "292  P60+SED-Machine  Fremling Automated Pipeline SEDM   SDSS      t  \n",
       "296  P60+SED-Machine  Fremling Automated Pipeline SEDM   SDSS      t  \n",
       "304  P60+SED-Machine  Fremling Automated Pipeline SEDM   SDSS      t  \n",
       "308  P60+SED-Machine  Fremling Automated Pipeline SEDM   SDSS      t  \n",
       "316  P60+SED-Machine  Fremling Automated Pipeline SEDM   SDSS      t  \n",
       "324  P60+SED-Machine  Fremling Automated Pipeline SEDM   SDSS      t  \n",
       "328  P60+SED-Machine  Fremling Automated Pipeline SEDM   SDSS      t  \n",
       "332  P60+SED-Machine  Fremling Automated Pipeline SEDM   SDSS      t  \n",
       "336  P60+SED-Machine  Fremling Automated Pipeline SEDM   SDSS      t  \n",
       "338  P60+SED-Machine  Fremling Automated Pipeline SEDM   SDSS      t  "
      ]
     },
     "execution_count": 24,
     "metadata": {},
     "output_type": "execute_result"
    }
   ],
   "source": [
    "#grab individual filters and store as Lightcurve objects\n",
    "r_band = grab_filter(P60_photometry, 'r')\n",
    "g_band = grab_filter(P60_photometry, 'g')\n",
    "i_band = grab_filter(P60_photometry, 'i')\n",
    "u_band = grab_filter(P60_photometry, 'u')\n",
    "\n",
    "#Create Lightcurve objects out from data\n",
    "iPTF16hvw.store_lightcurve(Lightcurve(date_to_MJD(r_band['date']), r_band['mag'], r_band['emag'], 'r'))\n",
    "iPTF16hvw.store_lightcurve(Lightcurve(date_to_MJD(g_band['date']), g_band['mag'], g_band['emag'], 'g'))\n",
    "iPTF16hvw.store_lightcurve(Lightcurve(date_to_MJD(i_band['date']), i_band['mag'], i_band['emag'], 'i'))\n",
    "iPTF16hvw.store_lightcurve(Lightcurve(date_to_MJD(u_band['date']), u_band['mag'], u_band['emag'], 'u'))\n",
    "\n",
    "g_band\n",
    "#u_band"
   ]
  },
  {
   "cell_type": "markdown",
   "metadata": {},
   "source": [
    "# Plot Photometry"
   ]
  },
  {
   "cell_type": "code",
   "execution_count": 7,
   "metadata": {
    "collapsed": true
   },
   "outputs": [],
   "source": [
    "#filter values with super high errorbars\n",
    "good_vals = np.where(u_band['mag'] != 99)\n",
    "u_band_clean = u_band.iloc[good_vals]\n",
    "\n",
    "upper_lims = np.where(u_band['limmag'] != 99)\n",
    "u_band_upper = u_band.iloc[upper_lims]"
   ]
  },
  {
   "cell_type": "code",
   "execution_count": 8,
   "metadata": {
    "collapsed": false
   },
   "outputs": [
    {
     "data": {
      "image/png": "[encoded data removed]",
      "text/plain": [
       "<matplotlib.figure.Figure at 0x115b91c50>"
      ]
     },
     "metadata": {},
     "output_type": "display_data"
    }
   ],
   "source": [
    "#Create one plot for all bands\n",
    "\n",
    "f, ax = plt.subplots(figsize=(8,7))\n",
    "\n",
    "plt.errorbar(date_to_MJD(u_band_clean['date']) - MJD_max_16hvw, u_band_clean['mag'], yerr = u_band_clean['emag'],label = 'u band', fmt='o', color='purple')\n",
    "plt.errorbar(date_to_MJD(i_band['date']) - MJD_max_16hvw, i_band['mag'], yerr = i_band['emag'],label = 'i band', fmt='o', color='red')\n",
    "plt.errorbar(date_to_MJD(g_band['date']) - MJD_max_16hvw, g_band['mag'], yerr = g_band['emag'],label = 'g band', fmt='o', color='green')\n",
    "plt.errorbar(date_to_MJD(r_band['date']) - MJD_max_16hvw, r_band['mag'], yerr = r_band['emag'],label = 'r band', fmt='o', color= 'orange')\n",
    "plt.errorbar(date_to_MJD(u_band_upper['date']) - MJD_max_16hvw, u_band_upper['limmag'],  fmt='v', color='purple', label=None)\n",
    "ax.invert_yaxis()\n",
    "plt.xlabel('Time (since B band maximum)')\n",
    "plt.ylabel('Apparent magnitude')\n",
    "plt.title('P60 Lightcurves')\n",
    "plt.legend(loc=1, ncol=1)\n",
    "plt.savefig('../Images/Photometry/P60_LC.pdf')\n",
    "plt.show()\n"
   ]
  },
  {
   "cell_type": "code",
   "execution_count": 9,
   "metadata": {
    "collapsed": true
   },
   "outputs": [],
   "source": [
    "#Read in P48 data\n",
    "P48_g = pd.read_csv('../Data/16hvw_photometry/P48_g.csv')\n",
    "P48_R = pd.read_csv('../Data/16hvw_photometry/P48_R.csv')\n"
   ]
  },
  {
   "cell_type": "code",
   "execution_count": 10,
   "metadata": {
    "collapsed": true
   },
   "outputs": [],
   "source": [
    "#get rid of bad vals\n",
    "g_clean = np.where(P48_g['mag_unc'] < 99)\n",
    "P48_g_clean = P48_g.iloc[g_clean]\n",
    "\n",
    "R_clean = np.where(P48_R['mag_unc'] < 99)\n",
    "P48_R_clean = P48_R.iloc[R_clean]"
   ]
  },
  {
   "cell_type": "code",
   "execution_count": 11,
   "metadata": {
    "collapsed": false
   },
   "outputs": [
    {
     "data": {
      "image/png": "[encoded data removed]",
      "text/plain": [
       "<matplotlib.figure.Figure at 0x115b82590>"
      ]
     },
     "metadata": {},
     "output_type": "display_data"
    }
   ],
   "source": [
    "#plot light curves\n",
    "f, ax = plt.subplots()\n",
    "ax.invert_yaxis()\n",
    "plt.errorbar(P48_R_clean['MJD'] - MJD_max_16hvw, P48_R_clean['mag'], yerr=P48_R_clean['mag_unc'],color='r', label='R band', fmt='o')\n",
    "plt.errorbar(P48_g_clean['MJD'] - MJD_max_16hvw, P48_g_clean['mag'], yerr=P48_g_clean['mag_unc'], color='g', label='g band', fmt='o')\n",
    "plt.xlabel('Time (Since B band maximum)')\n",
    "plt.ylabel('Apparent magnitude')\n",
    "plt.title('P48 Lightcurve ')\n",
    "plt.legend()\n",
    "plt.show()"
   ]
  },
  {
   "cell_type": "code",
   "execution_count": null,
   "metadata": {
    "collapsed": false
   },
   "outputs": [],
   "source": []
  },
  {
   "cell_type": "markdown",
   "metadata": {
    "collapsed": true
   },
   "source": [
    "# Absolute magnitude photometry - correct for extinction\n"
   ]
  },
  {
   "cell_type": "code",
   "execution_count": 12,
   "metadata": {
    "collapsed": true
   },
   "outputs": [],
   "source": [
    "#SDSS filters Extinction values from NED\n",
    "u_ext = 0.63500000\n",
    "g_ext = 0.49500000\n",
    "i_ext = 0.25400000\n",
    "r_ext = 0.34200000\n",
    "\n",
    "extinctions = {'u' : u_ext, 'g' : g_ext, 'i' : i_ext, 'r' : r_ext}\n",
    "\n",
    "#Host galaxy redshift\n",
    "z_host = 0.03663\n",
    "\n",
    "#Luminosity distance in pc\n",
    "d_L = 168.309 * 10**6\n",
    "\n",
    "d_mod = 5*np.log10(d_L) - 5"
   ]
  },
  {
   "cell_type": "code",
   "execution_count": 13,
   "metadata": {
    "collapsed": true
   },
   "outputs": [],
   "source": [
    "#define function to convert to absolute magnitude\n",
    "def to_abs_mag(app_mag, band):\n",
    "    return app_mag - d_mod - extinctions[band]\n"
   ]
  },
  {
   "cell_type": "code",
   "execution_count": 14,
   "metadata": {
    "collapsed": false
   },
   "outputs": [],
   "source": [
    "#convert to absolute magnitude\n",
    "P60_g_abs = [to_abs_mag(app_mag, 'g') for app_mag in g_band['mag']]\n",
    "P60_r_abs = [to_abs_mag(app_mag, 'r') for app_mag in r_band['mag']]\n",
    "P60_u_abs =[to_abs_mag(app_mag, 'u') for app_mag in u_band_clean['mag']]\n",
    "P60_i_abs = [to_abs_mag(app_mag, 'i') for app_mag in i_band['mag']]\n",
    "P60_u_upper_lims = [to_abs_mag(app_mag, 'u') for app_mag in u_band_upper['limmag']]\n",
    "\n",
    "P48_g_abs = [to_abs_mag(app_mag, 'g') for app_mag in P48_g_clean['mag']]\n",
    "P48_R_abs = [to_abs_mag(app_mag, 'r') for app_mag in P48_R_clean['mag']]"
   ]
  },
  {
   "cell_type": "code",
   "execution_count": 15,
   "metadata": {
    "collapsed": false
   },
   "outputs": [
    {
     "data": {
      "image/png": "[encoded data removed]",
      "text/plain": [
       "<matplotlib.figure.Figure at 0x10b417690>"
      ]
     },
     "metadata": {},
     "output_type": "display_data"
    }
   ],
   "source": [
    "#Create one plot for all bands\n",
    "\n",
    "f, ax = plt.subplots(figsize=(8,7))\n",
    "#plot iPTF16hvw colors\n",
    "plt.errorbar(date_to_MJD(u_band_clean['date']) - MJD_max_16hvw, P60_u_abs, yerr =u_band_clean['emag'] ,label = 'u band', fmt='o', color='purple')\n",
    "plt.errorbar(date_to_MJD(i_band['date']) - MJD_max_16hvw, P60_i_abs, yerr = i_band['emag'],label = 'i band', fmt='o', color='red')\n",
    "plt.errorbar(date_to_MJD(g_band['date']) - MJD_max_16hvw,P60_g_abs, yerr = g_band['emag'],label = 'g band', fmt='o', color='green')\n",
    "plt.errorbar(date_to_MJD(r_band['date']) - MJD_max_16hvw, P60_r_abs, yerr= r_band['emag'],label = 'r band', fmt='o', color= 'orange')\n",
    "plt.errorbar(date_to_MJD(u_band_upper['date']) - MJD_max_16hvw, P60_u_upper_lims,  fmt='v', color='purple', label=None)\n",
    "\n",
    "#plot \n",
    "\n",
    "\n",
    "\n",
    "\n",
    "ax.invert_yaxis()\n",
    "plt.xlabel('Time (since B band maximum)')\n",
    "plt.ylabel('Absolute magnitude')\n",
    "plt.title('P60 Absolute magnitude Lightcurve')\n",
    "plt.legend(loc=1, ncol=1)\n",
    "plt.savefig('../Images/Photometry/P60_Absolute_LC.pdf')\n",
    "plt.show()\n"
   ]
  },
  {
   "cell_type": "markdown",
   "metadata": {},
   "source": [
    "# SN2011fe sncosmo model\n"
   ]
  },
  {
   "cell_type": "code",
   "execution_count": 16,
   "metadata": {
    "collapsed": false
   },
   "outputs": [],
   "source": [
    "#Load in 2011fe Model\n",
    "MJD_max_2011fe = 55814\n",
    "z_2011fe = 0.000804\n",
    "\n",
    "\n",
    "#Load in 2011fe Model\n",
    "model = sncosmo.Model(source=\"snf-2011fe\")\n",
    "\n",
    "#set the known parameters\n",
    "model.set(z = z_2011fe, t0=MJD_max_2011fe)\n",
    "\n",
    "#Get phases to calc 2011fe Mag\n",
    "dates = np.linspace(MJD_max_2011fe - 14, MJD_max_2011fe + 29, 70)\n"
   ]
  },
  {
   "cell_type": "code",
   "execution_count": 29,
   "metadata": {
    "collapsed": false
   },
   "outputs": [
    {
     "data": {
      "text/html": [
       "<div>\n",
       "<style scoped>\n",
       "    .dataframe tbody tr th:only-of-type {\n",
       "        vertical-align: middle;\n",
       "    }\n",
       "\n",
       "    .dataframe tbody tr th {\n",
       "        vertical-align: top;\n",
       "    }\n",
       "\n",
       "    .dataframe thead th {\n",
       "        text-align: right;\n",
       "    }\n",
       "</style>\n",
       "<table border=\"1\" class=\"dataframe\">\n",
       "  <thead>\n",
       "    <tr style=\"text-align: right;\">\n",
       "      <th></th>\n",
       "      <th>date</th>\n",
       "      <th>jdobs</th>\n",
       "      <th>filter</th>\n",
       "      <th>absmag</th>\n",
       "      <th>mag</th>\n",
       "      <th>emag</th>\n",
       "      <th>limmag</th>\n",
       "      <th>instrument</th>\n",
       "      <th>reducedby</th>\n",
       "      <th>refsys</th>\n",
       "      <th>issub</th>\n",
       "    </tr>\n",
       "  </thead>\n",
       "  <tbody>\n",
       "    <tr>\n",
       "      <th>257</th>\n",
       "      <td>2016 Nov 09</td>\n",
       "      <td>2.457702e+06</td>\n",
       "      <td>g</td>\n",
       "      <td>-16.58</td>\n",
       "      <td>19.40</td>\n",
       "      <td>0.08</td>\n",
       "      <td>99.0</td>\n",
       "      <td>P60+SED-Machine</td>\n",
       "      <td>Fremling Automated Pipeline SEDM</td>\n",
       "      <td>SDSS</td>\n",
       "      <td>t</td>\n",
       "    </tr>\n",
       "    <tr>\n",
       "      <th>260</th>\n",
       "      <td>2016 Nov 09</td>\n",
       "      <td>2.457702e+06</td>\n",
       "      <td>g</td>\n",
       "      <td>-16.61</td>\n",
       "      <td>19.38</td>\n",
       "      <td>0.05</td>\n",
       "      <td>99.0</td>\n",
       "      <td>P60+SED-Machine</td>\n",
       "      <td>Fremling Automated Pipeline SEDM</td>\n",
       "      <td>SDSS</td>\n",
       "      <td>t</td>\n",
       "    </tr>\n",
       "    <tr>\n",
       "      <th>264</th>\n",
       "      <td>2016 Nov 10</td>\n",
       "      <td>2.457703e+06</td>\n",
       "      <td>g</td>\n",
       "      <td>-17.05</td>\n",
       "      <td>18.93</td>\n",
       "      <td>0.05</td>\n",
       "      <td>99.0</td>\n",
       "      <td>P60+SED-Machine</td>\n",
       "      <td>Fremling Automated Pipeline SEDM</td>\n",
       "      <td>SDSS</td>\n",
       "      <td>t</td>\n",
       "    </tr>\n",
       "    <tr>\n",
       "      <th>268</th>\n",
       "      <td>2016 Nov 12</td>\n",
       "      <td>2.457705e+06</td>\n",
       "      <td>g</td>\n",
       "      <td>-17.70</td>\n",
       "      <td>18.29</td>\n",
       "      <td>0.03</td>\n",
       "      <td>99.0</td>\n",
       "      <td>P60+SED-Machine</td>\n",
       "      <td>Fremling Automated Pipeline SEDM</td>\n",
       "      <td>SDSS</td>\n",
       "      <td>t</td>\n",
       "    </tr>\n",
       "    <tr>\n",
       "      <th>272</th>\n",
       "      <td>2016 Nov 13</td>\n",
       "      <td>2.457706e+06</td>\n",
       "      <td>g</td>\n",
       "      <td>-17.98</td>\n",
       "      <td>18.00</td>\n",
       "      <td>0.03</td>\n",
       "      <td>99.0</td>\n",
       "      <td>P60+SED-Machine</td>\n",
       "      <td>Fremling Automated Pipeline SEDM</td>\n",
       "      <td>SDSS</td>\n",
       "      <td>t</td>\n",
       "    </tr>\n",
       "    <tr>\n",
       "      <th>276</th>\n",
       "      <td>2016 Nov 14</td>\n",
       "      <td>2.457707e+06</td>\n",
       "      <td>g</td>\n",
       "      <td>-18.15</td>\n",
       "      <td>17.83</td>\n",
       "      <td>0.02</td>\n",
       "      <td>99.0</td>\n",
       "      <td>P60+SED-Machine</td>\n",
       "      <td>Fremling Automated Pipeline SEDM</td>\n",
       "      <td>SDSS</td>\n",
       "      <td>t</td>\n",
       "    </tr>\n",
       "    <tr>\n",
       "      <th>280</th>\n",
       "      <td>2016 Nov 15</td>\n",
       "      <td>2.457708e+06</td>\n",
       "      <td>g</td>\n",
       "      <td>-18.25</td>\n",
       "      <td>17.73</td>\n",
       "      <td>0.03</td>\n",
       "      <td>99.0</td>\n",
       "      <td>P60+SED-Machine</td>\n",
       "      <td>Fremling Automated Pipeline SEDM</td>\n",
       "      <td>SDSS</td>\n",
       "      <td>t</td>\n",
       "    </tr>\n",
       "    <tr>\n",
       "      <th>284</th>\n",
       "      <td>2016 Nov 17</td>\n",
       "      <td>2.457710e+06</td>\n",
       "      <td>g</td>\n",
       "      <td>-18.48</td>\n",
       "      <td>17.50</td>\n",
       "      <td>0.03</td>\n",
       "      <td>99.0</td>\n",
       "      <td>P60+SED-Machine</td>\n",
       "      <td>Fremling Automated Pipeline SEDM</td>\n",
       "      <td>SDSS</td>\n",
       "      <td>t</td>\n",
       "    </tr>\n",
       "    <tr>\n",
       "      <th>292</th>\n",
       "      <td>2016 Nov 25</td>\n",
       "      <td>2.457718e+06</td>\n",
       "      <td>g</td>\n",
       "      <td>-18.58</td>\n",
       "      <td>17.40</td>\n",
       "      <td>0.02</td>\n",
       "      <td>99.0</td>\n",
       "      <td>P60+SED-Machine</td>\n",
       "      <td>Fremling Automated Pipeline SEDM</td>\n",
       "      <td>SDSS</td>\n",
       "      <td>t</td>\n",
       "    </tr>\n",
       "    <tr>\n",
       "      <th>296</th>\n",
       "      <td>2016 Nov 26</td>\n",
       "      <td>2.457719e+06</td>\n",
       "      <td>g</td>\n",
       "      <td>-18.53</td>\n",
       "      <td>17.45</td>\n",
       "      <td>0.02</td>\n",
       "      <td>99.0</td>\n",
       "      <td>P60+SED-Machine</td>\n",
       "      <td>Fremling Automated Pipeline SEDM</td>\n",
       "      <td>SDSS</td>\n",
       "      <td>t</td>\n",
       "    </tr>\n",
       "    <tr>\n",
       "      <th>304</th>\n",
       "      <td>2016 Nov 30</td>\n",
       "      <td>2.457723e+06</td>\n",
       "      <td>g</td>\n",
       "      <td>-18.34</td>\n",
       "      <td>17.64</td>\n",
       "      <td>0.02</td>\n",
       "      <td>99.0</td>\n",
       "      <td>P60+SED-Machine</td>\n",
       "      <td>Fremling Automated Pipeline SEDM</td>\n",
       "      <td>SDSS</td>\n",
       "      <td>t</td>\n",
       "    </tr>\n",
       "    <tr>\n",
       "      <th>308</th>\n",
       "      <td>2016 Dec 01</td>\n",
       "      <td>2.457724e+06</td>\n",
       "      <td>g</td>\n",
       "      <td>-18.26</td>\n",
       "      <td>17.72</td>\n",
       "      <td>0.02</td>\n",
       "      <td>99.0</td>\n",
       "      <td>P60+SED-Machine</td>\n",
       "      <td>Fremling Automated Pipeline SEDM</td>\n",
       "      <td>SDSS</td>\n",
       "      <td>t</td>\n",
       "    </tr>\n",
       "    <tr>\n",
       "      <th>316</th>\n",
       "      <td>2016 Dec 03</td>\n",
       "      <td>2.457726e+06</td>\n",
       "      <td>g</td>\n",
       "      <td>-18.06</td>\n",
       "      <td>17.93</td>\n",
       "      <td>0.03</td>\n",
       "      <td>99.0</td>\n",
       "      <td>P60+SED-Machine</td>\n",
       "      <td>Fremling Automated Pipeline SEDM</td>\n",
       "      <td>SDSS</td>\n",
       "      <td>t</td>\n",
       "    </tr>\n",
       "    <tr>\n",
       "      <th>324</th>\n",
       "      <td>2016 Dec 06</td>\n",
       "      <td>2.457729e+06</td>\n",
       "      <td>g</td>\n",
       "      <td>-17.77</td>\n",
       "      <td>18.21</td>\n",
       "      <td>0.02</td>\n",
       "      <td>99.0</td>\n",
       "      <td>P60+SED-Machine</td>\n",
       "      <td>Fremling Automated Pipeline SEDM</td>\n",
       "      <td>SDSS</td>\n",
       "      <td>t</td>\n",
       "    </tr>\n",
       "    <tr>\n",
       "      <th>328</th>\n",
       "      <td>2016 Dec 12</td>\n",
       "      <td>2.457735e+06</td>\n",
       "      <td>g</td>\n",
       "      <td>-17.24</td>\n",
       "      <td>18.75</td>\n",
       "      <td>0.09</td>\n",
       "      <td>99.0</td>\n",
       "      <td>P60+SED-Machine</td>\n",
       "      <td>Fremling Automated Pipeline SEDM</td>\n",
       "      <td>SDSS</td>\n",
       "      <td>t</td>\n",
       "    </tr>\n",
       "    <tr>\n",
       "      <th>332</th>\n",
       "      <td>2016 Dec 14</td>\n",
       "      <td>2.457737e+06</td>\n",
       "      <td>g</td>\n",
       "      <td>-16.98</td>\n",
       "      <td>19.00</td>\n",
       "      <td>0.06</td>\n",
       "      <td>99.0</td>\n",
       "      <td>P60+SED-Machine</td>\n",
       "      <td>Fremling Automated Pipeline SEDM</td>\n",
       "      <td>SDSS</td>\n",
       "      <td>t</td>\n",
       "    </tr>\n",
       "    <tr>\n",
       "      <th>336</th>\n",
       "      <td>2016 Dec 18</td>\n",
       "      <td>2.457741e+06</td>\n",
       "      <td>g</td>\n",
       "      <td>-16.64</td>\n",
       "      <td>19.34</td>\n",
       "      <td>0.06</td>\n",
       "      <td>99.0</td>\n",
       "      <td>P60+SED-Machine</td>\n",
       "      <td>Fremling Automated Pipeline SEDM</td>\n",
       "      <td>SDSS</td>\n",
       "      <td>t</td>\n",
       "    </tr>\n",
       "    <tr>\n",
       "      <th>338</th>\n",
       "      <td>2016 Dec 20</td>\n",
       "      <td>2.457743e+06</td>\n",
       "      <td>g</td>\n",
       "      <td>-16.47</td>\n",
       "      <td>19.51</td>\n",
       "      <td>0.04</td>\n",
       "      <td>99.0</td>\n",
       "      <td>P60+SED-Machine</td>\n",
       "      <td>Fremling Automated Pipeline SEDM</td>\n",
       "      <td>SDSS</td>\n",
       "      <td>t</td>\n",
       "    </tr>\n",
       "  </tbody>\n",
       "</table>\n",
       "</div>"
      ],
      "text/plain": [
       "            date         jdobs filter  absmag    mag  emag  limmag  \\\n",
       "257  2016 Nov 09  2.457702e+06      g  -16.58  19.40  0.08    99.0   \n",
       "260  2016 Nov 09  2.457702e+06      g  -16.61  19.38  0.05    99.0   \n",
       "264  2016 Nov 10  2.457703e+06      g  -17.05  18.93  0.05    99.0   \n",
       "268  2016 Nov 12  2.457705e+06      g  -17.70  18.29  0.03    99.0   \n",
       "272  2016 Nov 13  2.457706e+06      g  -17.98  18.00  0.03    99.0   \n",
       "276  2016 Nov 14  2.457707e+06      g  -18.15  17.83  0.02    99.0   \n",
       "280  2016 Nov 15  2.457708e+06      g  -18.25  17.73  0.03    99.0   \n",
       "284  2016 Nov 17  2.457710e+06      g  -18.48  17.50  0.03    99.0   \n",
       "292  2016 Nov 25  2.457718e+06      g  -18.58  17.40  0.02    99.0   \n",
       "296  2016 Nov 26  2.457719e+06      g  -18.53  17.45  0.02    99.0   \n",
       "304  2016 Nov 30  2.457723e+06      g  -18.34  17.64  0.02    99.0   \n",
       "308  2016 Dec 01  2.457724e+06      g  -18.26  17.72  0.02    99.0   \n",
       "316  2016 Dec 03  2.457726e+06      g  -18.06  17.93  0.03    99.0   \n",
       "324  2016 Dec 06  2.457729e+06      g  -17.77  18.21  0.02    99.0   \n",
       "328  2016 Dec 12  2.457735e+06      g  -17.24  18.75  0.09    99.0   \n",
       "332  2016 Dec 14  2.457737e+06      g  -16.98  19.00  0.06    99.0   \n",
       "336  2016 Dec 18  2.457741e+06      g  -16.64  19.34  0.06    99.0   \n",
       "338  2016 Dec 20  2.457743e+06      g  -16.47  19.51  0.04    99.0   \n",
       "\n",
       "          instrument                         reducedby refsys issub   \n",
       "257  P60+SED-Machine  Fremling Automated Pipeline SEDM   SDSS      t  \n",
       "260  P60+SED-Machine  Fremling Automated Pipeline SEDM   SDSS      t  \n",
       "264  P60+SED-Machine  Fremling Automated Pipeline SEDM   SDSS      t  \n",
       "268  P60+SED-Machine  Fremling Automated Pipeline SEDM   SDSS      t  \n",
       "272  P60+SED-Machine  Fremling Automated Pipeline SEDM   SDSS      t  \n",
       "276  P60+SED-Machine  Fremling Automated Pipeline SEDM   SDSS      t  \n",
       "280  P60+SED-Machine  Fremling Automated Pipeline SEDM   SDSS      t  \n",
       "284  P60+SED-Machine  Fremling Automated Pipeline SEDM   SDSS      t  \n",
       "292  P60+SED-Machine  Fremling Automated Pipeline SEDM   SDSS      t  \n",
       "296  P60+SED-Machine  Fremling Automated Pipeline SEDM   SDSS      t  \n",
       "304  P60+SED-Machine  Fremling Automated Pipeline SEDM   SDSS      t  \n",
       "308  P60+SED-Machine  Fremling Automated Pipeline SEDM   SDSS      t  \n",
       "316  P60+SED-Machine  Fremling Automated Pipeline SEDM   SDSS      t  \n",
       "324  P60+SED-Machine  Fremling Automated Pipeline SEDM   SDSS      t  \n",
       "328  P60+SED-Machine  Fremling Automated Pipeline SEDM   SDSS      t  \n",
       "332  P60+SED-Machine  Fremling Automated Pipeline SEDM   SDSS      t  \n",
       "336  P60+SED-Machine  Fremling Automated Pipeline SEDM   SDSS      t  \n",
       "338  P60+SED-Machine  Fremling Automated Pipeline SEDM   SDSS      t  "
      ]
     },
     "execution_count": 29,
     "metadata": {},
     "output_type": "execute_result"
    }
   ],
   "source": [
    "#Get simulated magnitudes for various bands of interest\n",
    "fe_r = model.bandmag('sdssr', 'ab', dates)\n",
    "fe_g = model.bandmag('sdssg', 'ab', dates)\n",
    "fe_i = model.bandmag('sdssi', 'ab', dates)\n",
    "\n",
    "\n",
    "#Incorporate Blue portion of U band\n",
    "fname11fe = 'sn2011fe_1a.v3.2.dat'\n",
    "t = np.loadtxt('../Data/' + fname11fe)\n",
    "\n",
    "phase = np.unique(t[:,0])\n",
    "disp = np.unique(t[:,1])\n",
    "nphase, = phase.shape\n",
    "ndisp, = disp.shape\n",
    "dflux = np.reshape(t[:,2],(nphase,ndisp))\n",
    "\n",
    "mfe = sncosmo.StretchSource(phase, disp, dflux)\n",
    "\n",
    "mF = sncosmo.Model(source=mfe)\n",
    "mF.set(z=z_2011fe, t0=MJD_max_2011fe)\n",
    "fe_u = mF.bandmag('sdssu', 'ab', dates)\n",
    "g_band\n"
   ]
  },
  {
   "cell_type": "markdown",
   "metadata": {},
   "source": [
    "# Color evolution"
   ]
  },
  {
   "cell_type": "code",
   "execution_count": 39,
   "metadata": {
    "collapsed": false
   },
   "outputs": [
    {
     "data": {
      "image/png": "[encoded data removed]",
      "text/plain": [
       "<matplotlib.figure.Figure at 0x11712f8d0>"
      ]
     },
     "metadata": {},
     "output_type": "display_data"
    }
   ],
   "source": [
    "#Get indices of common epochs\n",
    "index_u_g = []\n",
    "for date in u_band_clean['date']:\n",
    "    index_u_g.append( np.where(g_band['date'] == date)[0][0])\n",
    "    \n",
    "    \n",
    "#get upper lim indices for u\n",
    "upper_indices = np.where(u_band['limmag'] != 99.0)\n",
    "u_upper = u_band.iloc[upper_indices]\n",
    "g_upper = g_band.iloc[[1,2,-3,-4] ]\n",
    "\n",
    "#filter for common dates\n",
    "g = g_band.iloc[index_u_g]\n",
    "u_g_color = np.array(u_band_clean['mag']) - np.array(g['mag'])\n",
    "\n",
    "\n",
    "#plot color curve\n",
    "f, ax  = plt.subplots(figsize=(8,6))\n",
    "plt.xlabel('Days since B band Max')\n",
    "plt.ylabel('Mag')\n",
    "plt.title('color curves')\n",
    "\n",
    "u_g_error = np.sqrt(np.array(u_band_clean['emag']**2) + np.array(g['emag']**2))\n",
    "g_r_error = np.sqrt(np.array(r_band['emag']**2) + np.array(g_band['emag']**2))\n",
    "r_i_error = np.sqrt(np.array(r_band['emag'][1:]**2) + np.array(i_band['emag']**2))\n",
    "\n",
    "\n",
    "plt.errorbar(date_to_MJD(u_upper['date']) - MJD_max_16hvw, np.array(u_upper['limmag']) - np.array(g_upper['mag']),  fmt='v', color='red', label=None)\n",
    "plt.errorbar(dates - MJD_max_2011fe, fe_r - fe_i, label='2011fe r - i', color='green' )\n",
    "plt.errorbar(dates - MJD_max_2011fe, fe_g - fe_r, label = '2011fe g - r' ,color='blue')\n",
    "plt.errorbar(dates - MJD_max_2011fe,  fe_u - fe_g, label='2011fe u - g', color='red' )\n",
    "\n",
    "plt.errorbar(date_to_MJD(g['date']) - MJD_max_16hvw, u_g_color, yerr=u_g_error, color='red', label='u - g' ,fmt='o')\n",
    "plt.errorbar(date_to_MJD(g_band['date']) - MJD_max_16hvw, np.array(g_band['mag']) - np.array(r_band['mag']),yerr=g_r_error,label= 'g - r',color='blue', fmt='o')\n",
    "plt.errorbar(date_to_MJD(i_band['date']) - MJD_max_16hvw, np.array(r_band['mag'][1:]) - np.array(i_band['mag']),yerr=r_i_error,label='r - i', fmt='o', color='green')\n",
    "plt.legend()\n",
    "plt.savefig('../Images/color_curve')\n",
    "plt.show()"
   ]
  },
  {
   "cell_type": "markdown",
   "metadata": {},
   "source": [
    "# iPTF16hvw sncosmo fits"
   ]
  },
  {
   "cell_type": "code",
   "execution_count": 37,
   "metadata": {
    "collapsed": false
   },
   "outputs": [
    {
     "data": {
      "text/plain": [
       "260   NaN\n",
       "261   NaN\n",
       "264   NaN\n",
       "265   NaN\n",
       "328   NaN\n",
       "329   NaN\n",
       "332   NaN\n",
       "333   NaN\n",
       "dtype: float64"
      ]
     },
     "execution_count": 37,
     "metadata": {},
     "output_type": "execute_result"
    }
   ],
   "source": [
    "#Create copy of P60 data\n",
    "sncosmo_photometry = P60_photometry.copy()\n"
   ]
  },
  {
   "cell_type": "code",
   "execution_count": 83,
   "metadata": {
    "collapsed": false
   },
   "outputs": [],
   "source": [
    "#define conversion functions\n",
    "def mag_to_flux(mag):\n",
    "    return (10**(mag / -2.5))*3631\n",
    "\n",
    "def mag_unc_to_flux_unc(flux, mag_unc):\n",
    "    const = np.log(10) / 1.5\n",
    "    return const* flux*mag_unc\n",
    "\n"
   ]
  },
  {
   "cell_type": "code",
   "execution_count": 84,
   "metadata": {
    "collapsed": false
   },
   "outputs": [],
   "source": [
    "#drop unnecessary columns\n",
    "sncosmo_photometry.drop(columns=['jdobs', 'instrument', 'reducedby', 'refsys', 'limmag', 'absmag', 'issub '], inplace=True)\n",
    "#drop values with mag == 99\n",
    "bad_vals = np.where(sncosmo_photometry['mag'] > 90)[0]\n",
    "sncosmo_photometry.drop(index=sncosmo_photometry.iloc[bad_vals].index, inplace=True)\n",
    "\n",
    "#convert dates to MJD\n",
    "sncosmo_photometry['date'] = date_to_MJD(sncosmo_photometry['date'])\n",
    "\n",
    "#convert to fluxes and flux errors\n",
    "sncosmo_photometry['flux'] = [mag_to_flux(mag) for mag in sncosmo_photometry['mag']]\n",
    "sncosmo_photometry['fluxerr'] = [mag_unc_to_flux_unc(flux, mag_unc) for flux, mag_unc in zip(sncosmo_photometry['flux'],sncosmo_photometry['emag'])]\n",
    "sncosmo_photometry.drop(columns=['mag', 'emag'], inplace=True)\n",
    "\n",
    "#set zeropoint\n",
    "sncosmo_photometry['zp'] = 2.5*np.log10(3631)\n",
    "#set mag system to ab\n",
    "sncosmo_photometry['zpsys'] = 'ab'\n",
    "\n"
   ]
  },
  {
   "cell_type": "code",
   "execution_count": 85,
   "metadata": {
    "collapsed": false
   },
   "outputs": [],
   "source": [
    "sncosmo.write_lc(sncosmo_photometry, 'full_photom.txt')\n",
    "full_photom = sncosmo.read_lc('full_photom.txt')\n"
   ]
  },
  {
   "cell_type": "code",
   "execution_count": 86,
   "metadata": {
    "collapsed": false
   },
   "outputs": [
    {
     "name": "stdout",
     "output_type": "stream",
     "text": [
      "[ 3.66300000e-02  5.77144134e+04  1.82463759e-03 -1.80167216e-01\n",
      "  2.02145407e-01]\n",
      "59\n"
     ]
    }
   ],
   "source": [
    "#Create salt2 fit for iPTF16hvw\n",
    "model_16hvw = sncosmo.Model(source='salt2')\n",
    "\n",
    "#set known redshift for 16hvw\n",
    "model_16hvw.set(z=z_16hvw)\n",
    "\n",
    "\n",
    "result_full, fitted_model = sncosmo.fit_lc(\n",
    "    full_photom, model_16hvw,\n",
    "    ['t0', 'x0', 'x1', 'c'],\n",
    "    bounds={\"t0\": (57705, 57725), \n",
    "            \"x1\": (-5, 5)}, guess_t0=True)  \n",
    "print(result_full.parameters)\n",
    "print(result_full.ndof)"
   ]
  },
  {
   "cell_type": "code",
   "execution_count": 87,
   "metadata": {
    "collapsed": false
   },
   "outputs": [
    {
     "data": {
      "image/png": "[encoded data removed]",
      "text/plain": [
       "<matplotlib.figure.Figure at 0x1185cb290>"
      ]
     },
     "execution_count": 87,
     "metadata": {},
     "output_type": "execute_result"
    }
   ],
   "source": [
    "sncosmo.plot_lc(full_photom, model=fitted_model, errors=result_full.errors)"
   ]
  },
  {
   "cell_type": "code",
   "execution_count": 88,
   "metadata": {
    "collapsed": false
   },
   "outputs": [],
   "source": [
    "#Fit without early data\n",
    "late_indices = np.where(full_photom['date'] > MJD_max_16hvw - 10\n",
    "                       \n",
    "            )"
   ]
  },
  {
   "cell_type": "code",
   "execution_count": 89,
   "metadata": {
    "collapsed": false
   },
   "outputs": [],
   "source": [
    "late_photom = full_photom[late_indices]"
   ]
  },
  {
   "cell_type": "code",
   "execution_count": 90,
   "metadata": {
    "collapsed": false
   },
   "outputs": [
    {
     "name": "stdout",
     "output_type": "stream",
     "text": [
      "[3.66300000e-02 5.77143800e+04 1.79284983e-03 7.13644386e-02\n",
      " 2.11198275e-01]\n",
      "46\n"
     ]
    }
   ],
   "source": [
    "result_late, fitted_model_late = sncosmo.fit_lc(\n",
    "   late_photom, model_16hvw,\n",
    "    ['t0', 'x0', 'x1', 'c'],\n",
    "    bounds={\"t0\": (57705, 57725), \n",
    "            \"x1\": (-5, 5)}, guess_t0=True)  \n",
    "print(result_late.parameters)\n",
    "print(result_late.ndof)"
   ]
  },
  {
   "cell_type": "code",
   "execution_count": 91,
   "metadata": {
    "collapsed": false
   },
   "outputs": [
    {
     "data": {
      "image/png": "[encoded data removed]",
      "text/plain": [
       "<matplotlib.figure.Figure at 0x118589c50>"
      ]
     },
     "execution_count": 91,
     "metadata": {},
     "output_type": "execute_result"
    }
   ],
   "source": [
    "sncosmo.plot_lc(late_photom, model=fitted_model_late, errors=result_late.errors)"
   ]
  },
  {
   "cell_type": "code",
   "execution_count": null,
   "metadata": {
    "collapsed": true
   },
   "outputs": [],
   "source": []
  },
  {
   "cell_type": "code",
   "execution_count": null,
   "metadata": {
    "collapsed": true
   },
   "outputs": [],
   "source": []
  },
  {
   "cell_type": "code",
   "execution_count": null,
   "metadata": {
    "collapsed": true
   },
   "outputs": [],
   "source": []
  }
 ],
 "metadata": {
  "kernelspec": {
   "display_name": "Python 2",
   "language": "python",
   "name": "python2"
  },
  "language_info": {
   "codemirror_mode": {
    "name": "ipython",
    "version": 2
   },
   "file_extension": ".py",
   "mimetype": "text/x-python",
   "name": "python",
   "nbconvert_exporter": "python",
   "pygments_lexer": "ipython2",
   "version": "2.7.13"
  }
 },
 "nbformat": 4,
 "nbformat_minor": 2
}
